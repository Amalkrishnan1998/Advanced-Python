{
 "cells": [
  {
   "cell_type": "markdown",
   "metadata": {},
   "source": [
    "#### Assertions "
   ]
  },
  {
   "cell_type": "markdown",
   "metadata": {},
   "source": [
    "When it encounters an assert statement, Python evaluates the accompanying expression, which is hopefully true. If the expression is false, Python raises an AssertionError exception."
   ]
  },
  {
   "cell_type": "markdown",
   "metadata": {},
   "source": [
    "Here is a function that converts a temperature from degrees Kelvin to degrees Fahrenheit. Since zero degrees Kelvin is as cold as it gets, the function bails out if it sees a negative temperature"
   ]
  },
  {
   "cell_type": "markdown",
   "metadata": {},
   "source": [
    "    assert Expression[, Arguments]"
   ]
  },
  {
   "cell_type": "code",
   "execution_count": 2,
   "metadata": {},
   "outputs": [
    {
     "name": "stdout",
     "output_type": "stream",
     "text": [
      "32.0\n",
      "451\n"
     ]
    },
    {
     "ename": "AssertionError",
     "evalue": "Colder than absolute zero!",
     "output_type": "error",
     "traceback": [
      "\u001b[1;31m---------------------------------------------------------------------------\u001b[0m",
      "\u001b[1;31mAssertionError\u001b[0m                            Traceback (most recent call last)",
      "\u001b[1;32m<ipython-input-2-2c1e2c14a3f9>\u001b[0m in \u001b[0;36m<module>\u001b[1;34m\u001b[0m\n\u001b[0;32m      4\u001b[0m \u001b[0mprint\u001b[0m \u001b[1;33m(\u001b[0m\u001b[0mKelvinToFahrenheit\u001b[0m\u001b[1;33m(\u001b[0m\u001b[1;36m273\u001b[0m\u001b[1;33m)\u001b[0m\u001b[1;33m)\u001b[0m\u001b[1;33m\u001b[0m\u001b[0m\n\u001b[0;32m      5\u001b[0m \u001b[0mprint\u001b[0m \u001b[1;33m(\u001b[0m\u001b[0mint\u001b[0m\u001b[1;33m(\u001b[0m\u001b[0mKelvinToFahrenheit\u001b[0m\u001b[1;33m(\u001b[0m\u001b[1;36m505.78\u001b[0m\u001b[1;33m)\u001b[0m\u001b[1;33m)\u001b[0m\u001b[1;33m)\u001b[0m\u001b[1;33m\u001b[0m\u001b[0m\n\u001b[1;32m----> 6\u001b[1;33m \u001b[0mprint\u001b[0m \u001b[1;33m(\u001b[0m\u001b[0mKelvinToFahrenheit\u001b[0m\u001b[1;33m(\u001b[0m\u001b[1;33m-\u001b[0m\u001b[1;36m5\u001b[0m\u001b[1;33m)\u001b[0m\u001b[1;33m)\u001b[0m\u001b[1;33m\u001b[0m\u001b[0m\n\u001b[0m",
      "\u001b[1;32m<ipython-input-2-2c1e2c14a3f9>\u001b[0m in \u001b[0;36mKelvinToFahrenheit\u001b[1;34m(Temperature)\u001b[0m\n\u001b[0;32m      1\u001b[0m \u001b[1;32mdef\u001b[0m \u001b[0mKelvinToFahrenheit\u001b[0m\u001b[1;33m(\u001b[0m\u001b[0mTemperature\u001b[0m\u001b[1;33m)\u001b[0m\u001b[1;33m:\u001b[0m\u001b[1;33m\u001b[0m\u001b[0m\n\u001b[1;32m----> 2\u001b[1;33m     \u001b[1;32massert\u001b[0m \u001b[1;33m(\u001b[0m\u001b[0mTemperature\u001b[0m \u001b[1;33m>=\u001b[0m \u001b[1;36m0\u001b[0m\u001b[1;33m)\u001b[0m\u001b[1;33m,\u001b[0m\u001b[1;34m\"Colder than absolute zero!\"\u001b[0m\u001b[1;33m\u001b[0m\u001b[0m\n\u001b[0m\u001b[0;32m      3\u001b[0m     \u001b[1;32mreturn\u001b[0m \u001b[1;33m(\u001b[0m\u001b[1;33m(\u001b[0m\u001b[0mTemperature\u001b[0m\u001b[1;33m-\u001b[0m\u001b[1;36m273\u001b[0m\u001b[1;33m)\u001b[0m\u001b[1;33m*\u001b[0m\u001b[1;36m1.8\u001b[0m\u001b[1;33m)\u001b[0m\u001b[1;33m+\u001b[0m\u001b[1;36m32\u001b[0m\u001b[1;33m\u001b[0m\u001b[0m\n\u001b[0;32m      4\u001b[0m \u001b[0mprint\u001b[0m \u001b[1;33m(\u001b[0m\u001b[0mKelvinToFahrenheit\u001b[0m\u001b[1;33m(\u001b[0m\u001b[1;36m273\u001b[0m\u001b[1;33m)\u001b[0m\u001b[1;33m)\u001b[0m\u001b[1;33m\u001b[0m\u001b[0m\n\u001b[0;32m      5\u001b[0m \u001b[0mprint\u001b[0m \u001b[1;33m(\u001b[0m\u001b[0mint\u001b[0m\u001b[1;33m(\u001b[0m\u001b[0mKelvinToFahrenheit\u001b[0m\u001b[1;33m(\u001b[0m\u001b[1;36m505.78\u001b[0m\u001b[1;33m)\u001b[0m\u001b[1;33m)\u001b[0m\u001b[1;33m)\u001b[0m\u001b[1;33m\u001b[0m\u001b[0m\n",
      "\u001b[1;31mAssertionError\u001b[0m: Colder than absolute zero!"
     ]
    }
   ],
   "source": [
    "def KelvinToFahrenheit(Temperature):\n",
    "    assert (Temperature >= 0),\"Colder than absolute zero!\"\n",
    "    return ((Temperature-273)*1.8)+32\n",
    "print (KelvinToFahrenheit(273))\n",
    "print (int(KelvinToFahrenheit(505.78)))\n",
    "print (KelvinToFahrenheit(-5))"
   ]
  },
  {
   "cell_type": "markdown",
   "metadata": {},
   "source": [
    "### Exception"
   ]
  },
  {
   "cell_type": "markdown",
   "metadata": {},
   "source": [
    "If you have some suspicious code that may raise an exception, you can defend your program by placing the suspicious code in a try: block. After the try: block, include an except: statement, followed by a block of code which handles the problem as elegantly as possible."
   ]
  },
  {
   "cell_type": "markdown",
   "metadata": {},
   "source": [
    "    try:\n",
    "       You do your operations here;\n",
    "       ......................\n",
    "    except ExceptionI:\n",
    "       If there is ExceptionI, then execute this block.\n",
    "    except ExceptionII:\n",
    "       If there is ExceptionII, then execute this block.\n",
    "       ......................\n",
    "    else:\n",
    "       If there is no exception then execute this block. "
   ]
  },
  {
   "cell_type": "markdown",
   "metadata": {},
   "source": [
    "This example opens a file, writes content in the, file and comes out gracefully because there is no problem at all"
   ]
  },
  {
   "cell_type": "code",
   "execution_count": 3,
   "metadata": {},
   "outputs": [
    {
     "name": "stdout",
     "output_type": "stream",
     "text": [
      "Written content in the file successfully\n"
     ]
    }
   ],
   "source": [
    "try:\n",
    "    fh = open(\"testfile\", \"w\")\n",
    "    fh.write(\"This is my test file for exception handling!!\")\n",
    "except IOError:\n",
    "    print (\"Error: can\\'t find file or read data\")\n",
    "else:\n",
    "    print (\"Written content in the file successfully\")\n",
    "    fh.close()"
   ]
  },
  {
   "cell_type": "markdown",
   "metadata": {},
   "source": [
    "This example tries to open a file where you do not have write permission, so it raises an exception"
   ]
  },
  {
   "cell_type": "code",
   "execution_count": 4,
   "metadata": {},
   "outputs": [
    {
     "name": "stdout",
     "output_type": "stream",
     "text": [
      "Error: can't find file or read data\n"
     ]
    }
   ],
   "source": [
    "try:\n",
    "    fh = open(\"testfile\", \"r\")\n",
    "    fh.write(\"This is my test file for exception handling!!\")\n",
    "except IOError:\n",
    "    print (\"Error: can\\'t find file or read data\")\n",
    "else:\n",
    "    print (\"Written content in the file successfully\")"
   ]
  },
  {
   "cell_type": "markdown",
   "metadata": {},
   "source": [
    "#### except Clause with No Exceptions\n",
    "\n",
    "This kind of a try-except statement catches all the exceptions that occur. Using this kind of try-except statement is not considered a good programming practice though, because it catches all exceptions but does not make the programmer identify the root cause of the problem that may occur\n",
    "\n",
    "    try:\n",
    "       You do your operations here;\n",
    "       ......................\n",
    "    except:\n",
    "       If there is any exception, then execute this block.\n",
    "       ......................\n",
    "    else:\n",
    "       If there is no exception then execute this block. "
   ]
  },
  {
   "cell_type": "markdown",
   "metadata": {},
   "source": [
    "#### except Clause with Multiple Exceptions\n",
    "\n",
    "    try:\n",
    "       You do your operations here;\n",
    "       ......................\n",
    "    except(Exception1[, Exception2[,...ExceptionN]]]):\n",
    "       If there is any exception from the given exception list, \n",
    "       then execute this block.\n",
    "       ......................\n",
    "    else:\n",
    "       If there is no exception then execute this block. "
   ]
  },
  {
   "cell_type": "markdown",
   "metadata": {},
   "source": [
    "#### The try-finally Clause\n",
    "\n",
    "    try:\n",
    "       You do your operations here;\n",
    "       ......................\n",
    "       Due to any exception, this may be skipped.\n",
    "    finally:\n",
    "       This would always be executed.\n",
    "       ......................"
   ]
  },
  {
   "cell_type": "code",
   "execution_count": 5,
   "metadata": {},
   "outputs": [
    {
     "name": "stdout",
     "output_type": "stream",
     "text": [
      "Error: can't find file or read data\n"
     ]
    }
   ],
   "source": [
    "try:\n",
    "    fh = open(\"testfile\", \"w\")\n",
    "    fh.write(\"This is my test file for exception handling!!\")\n",
    "finally:\n",
    "    print (\"Error: can\\'t find file or read data\")"
   ]
  },
  {
   "cell_type": "code",
   "execution_count": 6,
   "metadata": {},
   "outputs": [
    {
     "name": "stdout",
     "output_type": "stream",
     "text": [
      "Going to close the file\n"
     ]
    }
   ],
   "source": [
    "try:\n",
    "    fh = open(\"testfile\", \"w\")\n",
    "    try:\n",
    "        fh.write(\"This is my test file for exception handling!!\")\n",
    "    finally:\n",
    "        print (\"Going to close the file\")\n",
    "        fh.close()\n",
    "except IOError:\n",
    "    print (\"Error: can\\'t find file or read data\")"
   ]
  },
  {
   "cell_type": "markdown",
   "metadata": {},
   "source": [
    "#### Argument of an Exception\n",
    "\n",
    "An exception can have an argument, which is a value that gives additional information about the problem. The contents of the argument vary by exception. \n",
    "\n",
    "    try:\n",
    "       You do your operations here;\n",
    "       ......................\n",
    "    except ExceptionType, Argument:\n",
    "       You can print value of Argument here..."
   ]
  },
  {
   "cell_type": "code",
   "execution_count": 7,
   "metadata": {},
   "outputs": [
    {
     "ename": "SyntaxError",
     "evalue": "invalid syntax (<ipython-input-7-8585669c252a>, line 5)",
     "output_type": "error",
     "traceback": [
      "\u001b[1;36m  File \u001b[1;32m\"<ipython-input-7-8585669c252a>\"\u001b[1;36m, line \u001b[1;32m5\u001b[0m\n\u001b[1;33m    except ValueError, Argument:\u001b[0m\n\u001b[1;37m                     ^\u001b[0m\n\u001b[1;31mSyntaxError\u001b[0m\u001b[1;31m:\u001b[0m invalid syntax\n"
     ]
    }
   ],
   "source": [
    "# Define a function here.\n",
    "def temp_convert(var):\n",
    "    try:\n",
    "        return int(var)\n",
    "    except ValueError, Argument:\n",
    "        print (\"The argument does not contain numbers\\n\", Argument)\n",
    "\n",
    "# Call above function here.\n",
    "temp_convert(\"xyz\");"
   ]
  },
  {
   "cell_type": "markdown",
   "metadata": {},
   "source": [
    "#### Raising an Exceptions\n",
    "\n",
    "    raise [Exception [, args [, traceback]]]"
   ]
  },
  {
   "cell_type": "markdown",
   "metadata": {},
   "source": [
    "An exception can be a string, a class or an object. Most of the exceptions that the Python core raises are classes, with an argument that is an instance of the class. Defining new exceptions is quite easy and can be done as follows"
   ]
  },
  {
   "cell_type": "code",
   "execution_count": 9,
   "metadata": {},
   "outputs": [],
   "source": [
    "def functionName( level ):\n",
    "    if level < 1:\n",
    "        raise \"Invalid level!\"\n",
    "        # The code below to this would not be executed\n",
    "        # if we raise the exception"
   ]
  },
  {
   "cell_type": "code",
   "execution_count": 12,
   "metadata": {},
   "outputs": [
    {
     "ename": "TypeError",
     "evalue": "exceptions must derive from BaseException",
     "output_type": "error",
     "traceback": [
      "\u001b[1;31m---------------------------------------------------------------------------\u001b[0m",
      "\u001b[1;31mTypeError\u001b[0m                                 Traceback (most recent call last)",
      "\u001b[1;32m<ipython-input-12-061a285ba682>\u001b[0m in \u001b[0;36m<module>\u001b[1;34m\u001b[0m\n\u001b[1;32m----> 1\u001b[1;33m \u001b[0mfunctionName\u001b[0m\u001b[1;33m(\u001b[0m\u001b[1;36m0\u001b[0m\u001b[1;33m)\u001b[0m\u001b[1;33m\u001b[0m\u001b[0m\n\u001b[0m",
      "\u001b[1;32m<ipython-input-9-5c823db1d68d>\u001b[0m in \u001b[0;36mfunctionName\u001b[1;34m(level)\u001b[0m\n\u001b[0;32m      1\u001b[0m \u001b[1;32mdef\u001b[0m \u001b[0mfunctionName\u001b[0m\u001b[1;33m(\u001b[0m \u001b[0mlevel\u001b[0m \u001b[1;33m)\u001b[0m\u001b[1;33m:\u001b[0m\u001b[1;33m\u001b[0m\u001b[0m\n\u001b[0;32m      2\u001b[0m     \u001b[1;32mif\u001b[0m \u001b[0mlevel\u001b[0m \u001b[1;33m<\u001b[0m \u001b[1;36m1\u001b[0m\u001b[1;33m:\u001b[0m\u001b[1;33m\u001b[0m\u001b[0m\n\u001b[1;32m----> 3\u001b[1;33m         \u001b[1;32mraise\u001b[0m \u001b[1;34m\"Invalid level!\"\u001b[0m\u001b[1;33m\u001b[0m\u001b[0m\n\u001b[0m\u001b[0;32m      4\u001b[0m         \u001b[1;31m# The code below to this would not be executed\u001b[0m\u001b[1;33m\u001b[0m\u001b[1;33m\u001b[0m\u001b[0m\n\u001b[0;32m      5\u001b[0m         \u001b[1;31m# if we raise the exception\u001b[0m\u001b[1;33m\u001b[0m\u001b[1;33m\u001b[0m\u001b[0m\n",
      "\u001b[1;31mTypeError\u001b[0m: exceptions must derive from BaseException"
     ]
    }
   ],
   "source": [
    "functionName(0)"
   ]
  },
  {
   "cell_type": "markdown",
   "metadata": {},
   "source": [
    "Note: In order to catch an exception, an \"except\" clause must refer to the same exception thrown either class object or simple string. For example, to capture above exception, we must write the except clause as follows\n",
    "\n",
    "    try:\n",
    "       Business Logic here...\n",
    "    except \"Invalid level!\":\n",
    "       Exception handling here...\n",
    "    else:\n",
    "       Rest of the code here..."
   ]
  },
  {
   "cell_type": "code",
   "execution_count": null,
   "metadata": {},
   "outputs": [],
   "source": []
  }
 ],
 "metadata": {
  "kernelspec": {
   "display_name": "Python [conda env:tf]",
   "language": "python",
   "name": "conda-env-tf-py"
  },
  "language_info": {
   "codemirror_mode": {
    "name": "ipython",
    "version": 3
   },
   "file_extension": ".py",
   "mimetype": "text/x-python",
   "name": "python",
   "nbconvert_exporter": "python",
   "pygments_lexer": "ipython3",
   "version": "3.6.6"
  }
 },
 "nbformat": 4,
 "nbformat_minor": 2
}
