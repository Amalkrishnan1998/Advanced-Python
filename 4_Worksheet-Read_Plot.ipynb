{
 "cells": [
  {
   "cell_type": "code",
   "execution_count": 1,
   "metadata": {
    "scrolled": true
   },
   "outputs": [
    {
     "name": "stdout",
     "output_type": "stream",
     "text": [
      "Hello world!!..\n"
     ]
    }
   ],
   "source": [
    "print('Hello world!!..')"
   ]
  },
  {
   "cell_type": "code",
   "execution_count": 2,
   "metadata": {},
   "outputs": [
    {
     "data": {
      "text/plain": [
       "10.6"
      ]
     },
     "execution_count": 2,
     "metadata": {},
     "output_type": "execute_result"
    }
   ],
   "source": [
    "round(10.55555,1)"
   ]
  },
  {
   "cell_type": "code",
   "execution_count": 3,
   "metadata": {},
   "outputs": [
    {
     "name": "stdout",
     "output_type": "stream",
     "text": [
      "Help on built-in function round in module builtins:\n",
      "\n",
      "round(...)\n",
      "    round(number[, ndigits]) -> number\n",
      "    \n",
      "    Round a number to a given precision in decimal digits (default 0 digits).\n",
      "    This returns an int when called with one argument, otherwise the\n",
      "    same type as the number. ndigits may be negative.\n",
      "\n"
     ]
    }
   ],
   "source": [
    "help(round)"
   ]
  },
  {
   "cell_type": "code",
   "execution_count": 4,
   "metadata": {
    "scrolled": true
   },
   "outputs": [
    {
     "name": "stdout",
     "output_type": "stream",
     "text": [
      "scipy: 1.1.0\n"
     ]
    }
   ],
   "source": [
    "# scipy\n",
    "import scipy\n",
    "print('scipy: {}'.format(scipy.__version__))"
   ]
  },
  {
   "cell_type": "code",
   "execution_count": 5,
   "metadata": {},
   "outputs": [
    {
     "name": "stdout",
     "output_type": "stream",
     "text": [
      "numpy: 1.14.5\n"
     ]
    }
   ],
   "source": [
    "# numpy\n",
    "import numpy\n",
    "print('numpy: {}'.format(numpy.__version__))"
   ]
  },
  {
   "cell_type": "code",
   "execution_count": 6,
   "metadata": {},
   "outputs": [
    {
     "name": "stdout",
     "output_type": "stream",
     "text": [
      "matplotlib: 3.0.1\n"
     ]
    }
   ],
   "source": [
    "import matplotlib\n",
    "print('matplotlib: {}'.format(matplotlib.__version__))\n"
   ]
  },
  {
   "cell_type": "code",
   "execution_count": 7,
   "metadata": {},
   "outputs": [
    {
     "name": "stdout",
     "output_type": "stream",
     "text": [
      "pandas: 0.23.4\n"
     ]
    }
   ],
   "source": [
    "# pandas\n",
    "import pandas\n",
    "print('pandas: {}'.format(pandas.__version__))"
   ]
  },
  {
   "cell_type": "code",
   "execution_count": 8,
   "metadata": {},
   "outputs": [
    {
     "name": "stdout",
     "output_type": "stream",
     "text": [
      "sklearn: 0.20.0\n"
     ]
    }
   ],
   "source": [
    "# scikit-learn\n",
    "import sklearn\n",
    "print('sklearn: {}'.format(sklearn.__version__))"
   ]
  },
  {
   "cell_type": "code",
   "execution_count": 9,
   "metadata": {},
   "outputs": [
    {
     "name": "stdout",
     "output_type": "stream",
     "text": [
      "h\n",
      "11\n",
      "hello world\n"
     ]
    }
   ],
   "source": [
    "# Strings\n",
    "data = 'hello world'\n",
    "print(data[0])\n",
    "print(len(data))\n",
    "print(data)"
   ]
  },
  {
   "cell_type": "markdown",
   "metadata": {},
   "source": [
    "## Slicing"
   ]
  },
  {
   "cell_type": "code",
   "execution_count": 10,
   "metadata": {},
   "outputs": [
    {
     "name": "stdout",
     "output_type": "stream",
     "text": [
      "51\n",
      "http://www.python.org\n",
      "Python web site\n"
     ]
    }
   ],
   "source": [
    "tag = '<a href=\"http://www.python.org\">Python web site</a>'\n",
    "print(len(tag))\n",
    "print(tag[9:30])\n",
    "print(tag[32:-4])\n"
   ]
  },
  {
   "cell_type": "code",
   "execution_count": 11,
   "metadata": {},
   "outputs": [
    {
     "name": "stdout",
     "output_type": "stream",
     "text": [
      "[4, 5, 6]\n",
      "[1]\n",
      "[8, 9]\n"
     ]
    }
   ],
   "source": [
    "numbers = [1, 2, 3, 4, 5, 6, 7, 8, 9, 10]\n",
    "print(numbers[3:6])\n",
    "print(numbers[0:1])\n",
    "print(numbers[-3:-1])"
   ]
  },
  {
   "cell_type": "code",
   "execution_count": 12,
   "metadata": {},
   "outputs": [
    {
     "name": "stdout",
     "output_type": "stream",
     "text": [
      "That is fast\n"
     ]
    }
   ],
   "source": [
    "#flow control\n",
    "value = 99\n",
    "if value == 99:\n",
    "    print ('That is fast')\n",
    "elif value > 200:\n",
    "    print ('That is too fast')\n",
    "else:\n",
    "    print ('That is safe')\n"
   ]
  },
  {
   "cell_type": "code",
   "execution_count": 13,
   "metadata": {},
   "outputs": [
    {
     "name": "stdout",
     "output_type": "stream",
     "text": [
      "Zeroth Value: 1\n",
      "List Length: 4\n",
      "1\n",
      "2\n",
      "3\n",
      "4\n"
     ]
    }
   ],
   "source": [
    "#list \n",
    "mylist = [1, 2, 3]\n",
    "print(\"Zeroth Value: %d\" % mylist[0])\n",
    "mylist.append(4)\n",
    "print(\"List Length: %d\" % len(mylist))\n",
    "for value in mylist:\n",
    "    print( value)"
   ]
  },
  {
   "cell_type": "code",
   "execution_count": 14,
   "metadata": {},
   "outputs": [
    {
     "name": "stdout",
     "output_type": "stream",
     "text": [
      "A value: 1\n",
      "A value: 11\n",
      "Keys: dict_keys(['a', 'b', 'c'])\n",
      "Values: dict_values([11, 2, 3])\n",
      "11\n",
      "2\n",
      "3\n"
     ]
    }
   ],
   "source": [
    "#dictionary\n",
    "mydict = {'a': 1, 'b': 2, 'c': 3}\n",
    "print(\"A value: %d\"% mydict['a'])\n",
    "mydict['a'] = 11\n",
    "print(\"A value: %d\"% mydict['a'])\n",
    "print(\"Keys: %s\"% mydict.keys())\n",
    "print(\"Values: %s\" % mydict.values())\n",
    "for key in mydict.keys():\n",
    "    print( mydict[key])"
   ]
  },
  {
   "cell_type": "code",
   "execution_count": 15,
   "metadata": {},
   "outputs": [
    {
     "name": "stdout",
     "output_type": "stream",
     "text": [
      "4\n"
     ]
    }
   ],
   "source": [
    "# Sum function\n",
    "def mysum(x, y):\n",
    "    return x + y\n",
    "# Test sum function\n",
    "result = mysum(1, 3)\n",
    "print(result)"
   ]
  },
  {
   "cell_type": "code",
   "execution_count": 16,
   "metadata": {},
   "outputs": [
    {
     "name": "stdout",
     "output_type": "stream",
     "text": [
      "[1 2 3 4]\n",
      "(4,)\n"
     ]
    }
   ],
   "source": [
    "# define an array\n",
    "mylist = [1, 2, 3,4]\n",
    "myarray = numpy.array(mylist)\n",
    "print(myarray)\n",
    "print(myarray.shape)#count"
   ]
  },
  {
   "cell_type": "code",
   "execution_count": 17,
   "metadata": {},
   "outputs": [
    {
     "name": "stdout",
     "output_type": "stream",
     "text": [
      "[[1 2 3]\n",
      " [3 4 5]]\n",
      "(2, 3)\n",
      "First row: [1 2 3]\n",
      "Last row: [3 4 5]\n",
      "Specific row and col: 3\n",
      "Whole col: [3 5]\n"
     ]
    }
   ],
   "source": [
    "#numpy - used to convert data into an array\n",
    "mylist = [[1, 2, 3], [3, 4, 5]]\n",
    "myarray = numpy.array(mylist)\n",
    "print(myarray)\n",
    "print(myarray.shape)\n",
    "print(\"First row: %s\" % myarray[0])\n",
    "print(\"Last row: %s\" % myarray[-1])\n",
    "print(\"Specific row and col: %s\"% myarray[0, 2])\n",
    "print(\"Whole col: %s\"% myarray[:,2])"
   ]
  },
  {
   "cell_type": "code",
   "execution_count": 18,
   "metadata": {},
   "outputs": [
    {
     "name": "stdout",
     "output_type": "stream",
     "text": [
      "Addition: [5 5 5]\n",
      "Multiplication: [6 6 6]\n"
     ]
    }
   ],
   "source": [
    "# arithmetic\n",
    "myarray1 = numpy.array([2, 2, 2])\n",
    "myarray2 = numpy.array([3, 3, 3])\n",
    "print(\"Addition: %s\" % (myarray1 + myarray2))\n",
    "print(\"Multiplication: %s\"% (myarray1 * myarray2))"
   ]
  },
  {
   "cell_type": "code",
   "execution_count": 19,
   "metadata": {},
   "outputs": [
    {
     "data": {
      "text/plain": [
       "<Figure size 640x480 with 1 Axes>"
      ]
     },
     "metadata": {},
     "output_type": "display_data"
    }
   ],
   "source": [
    "#matplotlib - used to plot the data\n",
    "# basic line plot\n",
    "import matplotlib.pyplot as plt\n",
    "myarray = numpy.array([1, 2, 3])\n",
    "plt.plot(myarray)\n",
    "plt.xlabel('some x axis')\n",
    "plt.ylabel('some y axis')\n",
    "plt.show()"
   ]
  },
  {
   "cell_type": "code",
   "execution_count": 20,
   "metadata": {},
   "outputs": [
    {
     "data": {
      "image/png": "[encoded data removed]",
      "text/plain": [
       "<Figure size 432x288 with 1 Axes>"
      ]
     },
     "metadata": {
      "needs_background": "light"
     },
     "output_type": "display_data"
    }
   ],
   "source": [
    "# basic scatter plot\n",
    "x = numpy.array([1, 2, 3])\n",
    "y = numpy.array([2, 3, 6])\n",
    "plt.scatter(x,y)\n",
    "plt.xlabel('some x axis')\n",
    "plt.ylabel('some y axis')\n",
    "plt.show()"
   ]
  },
  {
   "cell_type": "code",
   "execution_count": 21,
   "metadata": {},
   "outputs": [
    {
     "name": "stdout",
     "output_type": "stream",
     "text": [
      "a    1\n",
      "b    2\n",
      "c    3\n",
      "dtype: int32\n"
     ]
    }
   ],
   "source": [
    "#pandas - used to convert data into series or dataframes\n",
    "# series\n",
    "myarray = numpy.array([1, 2, 3])\n",
    "rownames = ['a', 'b', 'c']\n",
    "myseries = pandas.Series(myarray, index=rownames)\n",
    "print(myseries)"
   ]
  },
  {
   "cell_type": "code",
   "execution_count": 22,
   "metadata": {},
   "outputs": [
    {
     "name": "stdout",
     "output_type": "stream",
     "text": [
      "1\n",
      "1\n"
     ]
    }
   ],
   "source": [
    "print(myseries[0])\n",
    "print(myseries['a'])"
   ]
  },
  {
   "cell_type": "code",
   "execution_count": 23,
   "metadata": {},
   "outputs": [
    {
     "name": "stdout",
     "output_type": "stream",
     "text": [
      "   one  two  three\n",
      "a    1    2      3\n",
      "b    4    5      6\n"
     ]
    }
   ],
   "source": [
    "# dataframe\n",
    "myarray = numpy.array([[1, 2, 3], [4, 5, 6]])\n",
    "rownames = ['a', 'b']\n",
    "colnames = ['one', 'two', 'three']\n",
    "mydataframe = pandas.DataFrame(myarray, index=rownames, columns=colnames)\n",
    "print(mydataframe)"
   ]
  },
  {
   "cell_type": "code",
   "execution_count": 25,
   "metadata": {},
   "outputs": [
    {
     "name": "stdout",
     "output_type": "stream",
     "text": [
      "(777,)\n"
     ]
    }
   ],
   "source": [
    "# Load CSV Using Python Standard Library\n",
    "import csv\n",
    "filename = 'pima-indians-diabetes.csv'\n",
    "raw_data = open(filename, 'r')\n",
    "reader = csv.reader(raw_data, delimiter=',', quoting=csv.QUOTE_NONE)\n",
    "x = list(reader)\n",
    "data = numpy.array(x)\n",
    "print(data.shape)"
   ]
  },
  {
   "cell_type": "code",
   "execution_count": 27,
   "metadata": {},
   "outputs": [
    {
     "name": "stdout",
     "output_type": "stream",
     "text": [
      "(777, 9)\n",
      "                                                  preg   plas  pres  skin  \\\n",
      "0                        # 1. Number of times pregnant    NaN   NaN   NaN   \n",
      "1    # 2. Plasma glucose concentration a 2 hours in...    NaN   NaN   NaN   \n",
      "2                # 3. Diastolic blood pressure (mm Hg)    NaN   NaN   NaN   \n",
      "3                # 4. Triceps skin fold thickness (mm)    NaN   NaN   NaN   \n",
      "4                  # 5. 2-Hour serum insulin (mu U/ml)    NaN   NaN   NaN   \n",
      "5    # 6. Body mass index (weight in kg/(height in ...    NaN   NaN   NaN   \n",
      "6                      # 7. Diabetes pedigree function    NaN   NaN   NaN   \n",
      "7                                     # 8. Age (years)    NaN   NaN   NaN   \n",
      "8                         # 9. Class variable (0 or 1)    NaN   NaN   NaN   \n",
      "9                                                    6  148.0  72.0  35.0   \n",
      "10                                                   1   85.0  66.0  29.0   \n",
      "11                                                   8  183.0  64.0   0.0   \n",
      "12                                                   1   89.0  66.0  23.0   \n",
      "13                                                   0  137.0  40.0  35.0   \n",
      "14                                                   5  116.0  74.0   0.0   \n",
      "15                                                   3   78.0  50.0  32.0   \n",
      "16                                                  10  115.0   0.0   0.0   \n",
      "17                                                   2  197.0  70.0  45.0   \n",
      "18                                                   8  125.0  96.0   0.0   \n",
      "19                                                   4  110.0  92.0   0.0   \n",
      "20                                                  10  168.0  74.0   0.0   \n",
      "21                                                  10  139.0  80.0   0.0   \n",
      "22                                                   1  189.0  60.0  23.0   \n",
      "23                                                   5  166.0  72.0  19.0   \n",
      "24                                                   7  100.0   0.0   0.0   \n",
      "25                                                   0  118.0  84.0  47.0   \n",
      "26                                                   7  107.0  74.0   0.0   \n",
      "27                                                   1  103.0  30.0  38.0   \n",
      "28                                                   1  115.0  70.0  30.0   \n",
      "29                                                   3  126.0  88.0  41.0   \n",
      "..                                                 ...    ...   ...   ...   \n",
      "747                                                  2   99.0  60.0  17.0   \n",
      "748                                                  1  102.0  74.0   0.0   \n",
      "749                                                 11  120.0  80.0  37.0   \n",
      "750                                                  3  102.0  44.0  20.0   \n",
      "751                                                  1  109.0  58.0  18.0   \n",
      "752                                                  9  140.0  94.0   0.0   \n",
      "753                                                 13  153.0  88.0  37.0   \n",
      "754                                                 12  100.0  84.0  33.0   \n",
      "755                                                  1  147.0  94.0  41.0   \n",
      "756                                                  1   81.0  74.0  41.0   \n",
      "757                                                  3  187.0  70.0  22.0   \n",
      "758                                                  6  162.0  62.0   0.0   \n",
      "759                                                  4  136.0  70.0   0.0   \n",
      "760                                                  1  121.0  78.0  39.0   \n",
      "761                                                  3  108.0  62.0  24.0   \n",
      "762                                                  0  181.0  88.0  44.0   \n",
      "763                                                  8  154.0  78.0  32.0   \n",
      "764                                                  1  128.0  88.0  39.0   \n",
      "765                                                  7  137.0  90.0  41.0   \n",
      "766                                                  0  123.0  72.0   0.0   \n",
      "767                                                  1  106.0  76.0   0.0   \n",
      "768                                                  6  190.0  92.0   0.0   \n",
      "769                                                  2   88.0  58.0  26.0   \n",
      "770                                                  9  170.0  74.0  31.0   \n",
      "771                                                  9   89.0  62.0   0.0   \n",
      "772                                                 10  101.0  76.0  48.0   \n",
      "773                                                  2  122.0  70.0  27.0   \n",
      "774                                                  5  121.0  72.0  23.0   \n",
      "775                                                  1  126.0  60.0   0.0   \n",
      "776                                                  1   93.0  70.0  31.0   \n",
      "\n",
      "      test  mass   pedi   age  class  \n",
      "0      NaN   NaN    NaN   NaN    NaN  \n",
      "1      NaN   NaN    NaN   NaN    NaN  \n",
      "2      NaN   NaN    NaN   NaN    NaN  \n",
      "3      NaN   NaN    NaN   NaN    NaN  \n",
      "4      NaN   NaN    NaN   NaN    NaN  \n",
      "5      NaN   NaN    NaN   NaN    NaN  \n",
      "6      NaN   NaN    NaN   NaN    NaN  \n",
      "7      NaN   NaN    NaN   NaN    NaN  \n",
      "8      NaN   NaN    NaN   NaN    NaN  \n",
      "9      0.0  33.6  0.627  50.0    1.0  \n",
      "10     0.0  26.6  0.351  31.0    0.0  \n",
      "11     0.0  23.3  0.672  32.0    1.0  \n",
      "12    94.0  28.1  0.167  21.0    0.0  \n",
      "13   168.0  43.1  2.288  33.0    1.0  \n",
      "14     0.0  25.6  0.201  30.0    0.0  \n",
      "15    88.0  31.0  0.248  26.0    1.0  \n",
      "16     0.0  35.3  0.134  29.0    0.0  \n",
      "17   543.0  30.5  0.158  53.0    1.0  \n",
      "18     0.0   0.0  0.232  54.0    1.0  \n",
      "19     0.0  37.6  0.191  30.0    0.0  \n",
      "20     0.0  38.0  0.537  34.0    1.0  \n",
      "21     0.0  27.1  1.441  57.0    0.0  \n",
      "22   846.0  30.1  0.398  59.0    1.0  \n",
      "23   175.0  25.8  0.587  51.0    1.0  \n",
      "24     0.0  30.0  0.484  32.0    1.0  \n",
      "25   230.0  45.8  0.551  31.0    1.0  \n",
      "26     0.0  29.6  0.254  31.0    1.0  \n",
      "27    83.0  43.3  0.183  33.0    0.0  \n",
      "28    96.0  34.6  0.529  32.0    1.0  \n",
      "29   235.0  39.3  0.704  27.0    0.0  \n",
      "..     ...   ...    ...   ...    ...  \n",
      "747  160.0  36.6  0.453  21.0    0.0  \n",
      "748    0.0  39.5  0.293  42.0    1.0  \n",
      "749  150.0  42.3  0.785  48.0    1.0  \n",
      "750   94.0  30.8  0.400  26.0    0.0  \n",
      "751  116.0  28.5  0.219  22.0    0.0  \n",
      "752    0.0  32.7  0.734  45.0    1.0  \n",
      "753  140.0  40.6  1.174  39.0    0.0  \n",
      "754  105.0  30.0  0.488  46.0    0.0  \n",
      "755    0.0  49.3  0.358  27.0    1.0  \n",
      "756   57.0  46.3  1.096  32.0    0.0  \n",
      "757  200.0  36.4  0.408  36.0    1.0  \n",
      "758    0.0  24.3  0.178  50.0    1.0  \n",
      "759    0.0  31.2  1.182  22.0    1.0  \n",
      "760   74.0  39.0  0.261  28.0    0.0  \n",
      "761    0.0  26.0  0.223  25.0    0.0  \n",
      "762  510.0  43.3  0.222  26.0    1.0  \n",
      "763    0.0  32.4  0.443  45.0    1.0  \n",
      "764  110.0  36.5  1.057  37.0    1.0  \n",
      "765    0.0  32.0  0.391  39.0    0.0  \n",
      "766    0.0  36.3  0.258  52.0    1.0  \n",
      "767    0.0  37.5  0.197  26.0    0.0  \n",
      "768    0.0  35.5  0.278  66.0    1.0  \n",
      "769   16.0  28.4  0.766  22.0    0.0  \n",
      "770    0.0  44.0  0.403  43.0    1.0  \n",
      "771    0.0  22.5  0.142  33.0    0.0  \n",
      "772  180.0  32.9  0.171  63.0    0.0  \n",
      "773    0.0  36.8  0.340  27.0    0.0  \n",
      "774  112.0  26.2  0.245  30.0    0.0  \n",
      "775    0.0  30.1  0.349  47.0    1.0  \n",
      "776    0.0  30.4  0.315  23.0    0.0  \n",
      "\n",
      "[777 rows x 9 columns]\n"
     ]
    }
   ],
   "source": [
    "# Load CSV using Pandas\n",
    "from pandas import read_csv\n",
    "filename = 'pima-indians-diabetes.csv'\n",
    "names = ['preg', 'plas', 'pres', 'skin', 'test', 'mass', 'pedi', 'age', 'class']\n",
    "data = read_csv(filename, names=names)\n",
    "print(data.shape)\n",
    "print(data)"
   ]
  },
  {
   "cell_type": "code",
   "execution_count": 28,
   "metadata": {},
   "outputs": [
    {
     "name": "stdout",
     "output_type": "stream",
     "text": [
      "                                                 preg   plas  pres  skin  \\\n",
      "0                       # 1. Number of times pregnant    NaN   NaN   NaN   \n",
      "1   # 2. Plasma glucose concentration a 2 hours in...    NaN   NaN   NaN   \n",
      "2               # 3. Diastolic blood pressure (mm Hg)    NaN   NaN   NaN   \n",
      "3               # 4. Triceps skin fold thickness (mm)    NaN   NaN   NaN   \n",
      "4                 # 5. 2-Hour serum insulin (mu U/ml)    NaN   NaN   NaN   \n",
      "5   # 6. Body mass index (weight in kg/(height in ...    NaN   NaN   NaN   \n",
      "6                     # 7. Diabetes pedigree function    NaN   NaN   NaN   \n",
      "7                                    # 8. Age (years)    NaN   NaN   NaN   \n",
      "8                        # 9. Class variable (0 or 1)    NaN   NaN   NaN   \n",
      "9                                                   6  148.0  72.0  35.0   \n",
      "10                                                  1   85.0  66.0  29.0   \n",
      "11                                                  8  183.0  64.0   0.0   \n",
      "12                                                  1   89.0  66.0  23.0   \n",
      "13                                                  0  137.0  40.0  35.0   \n",
      "14                                                  5  116.0  74.0   0.0   \n",
      "15                                                  3   78.0  50.0  32.0   \n",
      "16                                                 10  115.0   0.0   0.0   \n",
      "17                                                  2  197.0  70.0  45.0   \n",
      "18                                                  8  125.0  96.0   0.0   \n",
      "19                                                  4  110.0  92.0   0.0   \n",
      "\n",
      "     test  mass   pedi   age  class  \n",
      "0     NaN   NaN    NaN   NaN    NaN  \n",
      "1     NaN   NaN    NaN   NaN    NaN  \n",
      "2     NaN   NaN    NaN   NaN    NaN  \n",
      "3     NaN   NaN    NaN   NaN    NaN  \n",
      "4     NaN   NaN    NaN   NaN    NaN  \n",
      "5     NaN   NaN    NaN   NaN    NaN  \n",
      "6     NaN   NaN    NaN   NaN    NaN  \n",
      "7     NaN   NaN    NaN   NaN    NaN  \n",
      "8     NaN   NaN    NaN   NaN    NaN  \n",
      "9     0.0  33.6  0.627  50.0    1.0  \n",
      "10    0.0  26.6  0.351  31.0    0.0  \n",
      "11    0.0  23.3  0.672  32.0    1.0  \n",
      "12   94.0  28.1  0.167  21.0    0.0  \n",
      "13  168.0  43.1  2.288  33.0    1.0  \n",
      "14    0.0  25.6  0.201  30.0    0.0  \n",
      "15   88.0  31.0  0.248  26.0    1.0  \n",
      "16    0.0  35.3  0.134  29.0    0.0  \n",
      "17  543.0  30.5  0.158  53.0    1.0  \n",
      "18    0.0   0.0  0.232  54.0    1.0  \n",
      "19    0.0  37.6  0.191  30.0    0.0  \n"
     ]
    }
   ],
   "source": [
    "# View first 20 rows\n",
    "filename = \"pima-indians-diabetes.csv\"\n",
    "names = ['preg', 'plas', 'pres', 'skin', 'test', 'mass', 'pedi', 'age', 'class']\n",
    "data = read_csv(filename, names=names)\n",
    "peek = data.head(20)\n",
    "print(peek)"
   ]
  },
  {
   "cell_type": "code",
   "execution_count": 29,
   "metadata": {},
   "outputs": [
    {
     "name": "stdout",
     "output_type": "stream",
     "text": [
      "preg      object\n",
      "plas     float64\n",
      "pres     float64\n",
      "skin     float64\n",
      "test     float64\n",
      "mass     float64\n",
      "pedi     float64\n",
      "age      float64\n",
      "class    float64\n",
      "dtype: object\n"
     ]
    }
   ],
   "source": [
    "# Data Types for Each Attribute\n",
    "filename = \"pima-indians-diabetes.csv\"\n",
    "names = ['preg', 'plas', 'pres', 'skin', 'test', 'mass', 'pedi', 'age', 'class']\n",
    "data = read_csv(filename, names=names)\n",
    "types = data.dtypes\n",
    "print(types)"
   ]
  },
  {
   "cell_type": "code",
   "execution_count": 30,
   "metadata": {},
   "outputs": [
    {
     "name": "stdout",
     "output_type": "stream",
     "text": [
      "          plas     pres     skin     test     mass     pedi      age    class\n",
      "count  768.000  768.000  768.000  768.000  768.000  768.000  768.000  768.000\n",
      "mean   120.895   69.105   20.536   79.799   31.993    0.472   33.241    0.349\n",
      "std     31.973   19.356   15.952  115.244    7.884    0.331   11.760    0.477\n",
      "min      0.000    0.000    0.000    0.000    0.000    0.078   21.000    0.000\n",
      "25%     99.000   62.000    0.000    0.000   27.300    0.244   24.000    0.000\n",
      "50%    117.000   72.000   23.000   30.500   32.000    0.372   29.000    0.000\n",
      "75%    140.250   80.000   32.000  127.250   36.600    0.626   41.000    1.000\n",
      "max    199.000  122.000   99.000  846.000   67.100    2.420   81.000    1.000\n"
     ]
    }
   ],
   "source": [
    "# Statistical Summary\n",
    "from pandas import set_option\n",
    "filename = \"pima-indians-diabetes.csv\"\n",
    "names = ['preg', 'plas', 'pres', 'skin', 'test', 'mass', 'pedi', 'age', 'class']\n",
    "data = read_csv(filename, names=names)\n",
    "set_option('display.width', 100)\n",
    "set_option('precision', 3)\n",
    "description = data.describe()\n",
    "print(description)"
   ]
  },
  {
   "cell_type": "code",
   "execution_count": 31,
   "metadata": {},
   "outputs": [
    {
     "name": "stdout",
     "output_type": "stream",
     "text": [
      "class\n",
      "0.0    500\n",
      "1.0    268\n",
      "dtype: int64\n"
     ]
    }
   ],
   "source": [
    "filename = \"pima-indians-diabetes.csv\"\n",
    "names = ['preg', 'plas', 'pres', 'skin', 'test', 'mass', 'pedi', 'age', 'class']\n",
    "data = read_csv(filename, names=names)\n",
    "class_counts = data.groupby('class').size()\n",
    "print(class_counts)"
   ]
  },
  {
   "cell_type": "code",
   "execution_count": 32,
   "metadata": {},
   "outputs": [
    {
     "name": "stdout",
     "output_type": "stream",
     "text": [
      "        plas   pres   skin   test   mass   pedi    age  class\n",
      "plas   1.000  0.153  0.057  0.331  0.221  0.137  0.264  0.467\n",
      "pres   0.153  1.000  0.207  0.089  0.282  0.041  0.240  0.065\n",
      "skin   0.057  0.207  1.000  0.437  0.393  0.184 -0.114  0.075\n",
      "test   0.331  0.089  0.437  1.000  0.198  0.185 -0.042  0.131\n",
      "mass   0.221  0.282  0.393  0.198  1.000  0.141  0.036  0.293\n",
      "pedi   0.137  0.041  0.184  0.185  0.141  1.000  0.034  0.174\n",
      "age    0.264  0.240 -0.114 -0.042  0.036  0.034  1.000  0.238\n",
      "class  0.467  0.065  0.075  0.131  0.293  0.174  0.238  1.000\n"
     ]
    }
   ],
   "source": [
    "# Pairwise Pearson correlations\n",
    "filename = \"pima-indians-diabetes.csv\"\n",
    "names = ['preg', 'plas', 'pres', 'skin', 'test', 'mass', 'pedi', 'age', 'class']\n",
    "data = read_csv(filename, names=names)\n",
    "set_option('display.width', 100)\n",
    "set_option('precision', 3)\n",
    "correlations = data.corr(method='pearson')\n",
    "print(correlations)"
   ]
  },
  {
   "cell_type": "code",
   "execution_count": 33,
   "metadata": {},
   "outputs": [
    {
     "name": "stdout",
     "output_type": "stream",
     "text": [
      "plas     0.174\n",
      "pres    -1.844\n",
      "skin     0.109\n",
      "test     2.272\n",
      "mass    -0.429\n",
      "pedi     1.920\n",
      "age      1.130\n",
      "class    0.635\n",
      "dtype: float64\n"
     ]
    }
   ],
   "source": [
    "# Skew for each attribute\n",
    "#a positive (right) or negative (left) skew. Values closer to zero show less skew.\n",
    "filename = \"pima-indians-diabetes.csv\"\n",
    "names = ['preg', 'plas', 'pres', 'skin', 'test', 'mass', 'pedi', 'age', 'class']\n",
    "data = read_csv(filename, names=names)\n",
    "skew = data.skew()\n",
    "print(skew)"
   ]
  },
  {
   "cell_type": "code",
   "execution_count": 35,
   "metadata": {},
   "outputs": [
    {
     "data": {
      "image/png": "[encoded data removed]",
      "text/plain": [
       "<Figure size 432x288 with 9 Axes>"
      ]
     },
     "metadata": {
      "needs_background": "light"
     },
     "output_type": "display_data"
    }
   ],
   "source": [
    "# Univariate Histograms\n",
    "from matplotlib import pyplot\n",
    "filename = 'pima-indians-diabetes.csv'\n",
    "names = ['preg', 'plas', 'pres', 'skin', 'test', 'mass', 'pedi', 'age', 'class']\n",
    "data = read_csv(filename, names=names)\n",
    "data.hist()\n",
    "pyplot.show()"
   ]
  },
  {
   "cell_type": "code",
   "execution_count": 36,
   "metadata": {},
   "outputs": [
    {
     "data": {
      "image/png": "[encoded data removed]",
      "text/plain": [
       "<Figure size 432x288 with 9 Axes>"
      ]
     },
     "metadata": {
      "needs_background": "light"
     },
     "output_type": "display_data"
    }
   ],
   "source": [
    "# Univariate Density Plots\n",
    "filename = 'pima-indians-diabetes.csv'\n",
    "names = ['preg', 'plas', 'pres', 'skin', 'test', 'mass', 'pedi', 'age', 'class']\n",
    "data = read_csv(filename, names=names)\n",
    "data.plot(kind='density', subplots=True, layout=(3,3), sharex=False)\n",
    "pyplot.show()"
   ]
  },
  {
   "cell_type": "code",
   "execution_count": 37,
   "metadata": {},
   "outputs": [
    {
     "data": {
      "image/png": "[encoded data removed]",
      "text/plain": [
       "<Figure size 432x288 with 9 Axes>"
      ]
     },
     "metadata": {
      "needs_background": "light"
     },
     "output_type": "display_data"
    }
   ],
   "source": [
    "# Box and Whisker Plots\n",
    "filename = \"pima-indians-diabetes.csv\"\n",
    "names = ['preg', 'plas', 'pres', 'skin', 'test', 'mass', 'pedi', 'age', 'class']\n",
    "data = read_csv(filename, names=names)\n",
    "data.plot(kind='box', subplots=True, layout=(3,3), sharex=False, sharey=False)\n",
    "pyplot.show()"
   ]
  },
  {
   "cell_type": "code",
   "execution_count": 43,
   "metadata": {},
   "outputs": [
    {
     "data": {
      "image/png": "[encoded data removed]",
      "text/plain": [
       "<Figure size 432x288 with 2 Axes>"
      ]
     },
     "metadata": {
      "needs_background": "light"
     },
     "output_type": "display_data"
    }
   ],
   "source": [
    "# Correction Matrix Plot\n",
    "filename = 'pima-indians-diabetes.csv'\n",
    "names = ['preg', 'plas', 'pres', 'skin', 'test', 'mass', 'pedi', 'age', 'class']\n",
    "data = read_csv(filename, names=names)\n",
    "correlations = data.corr()\n",
    "# plot correlation matrix\n",
    "fig = pyplot.figure()\n",
    "ax = fig.add_subplot(111)\n",
    "cax = ax.matshow(correlations, vmin=-1, vmax=1)\n",
    "fig.colorbar(cax)\n",
    "ticks = numpy.arange(0,9,1)\n",
    "ax.set_xticks(ticks)\n",
    "ax.set_yticks(ticks)\n",
    "ax.set_xticklabels(names)\n",
    "ax.set_yticklabels(names)\n",
    "pyplot.show()"
   ]
  },
  {
   "cell_type": "code",
   "execution_count": 46,
   "metadata": {},
   "outputs": [
    {
     "ename": "ModuleNotFoundError",
     "evalue": "No module named 'pandas.scatter_matrix'",
     "output_type": "error",
     "traceback": [
      "\u001b[1;31m---------------------------------------------------------------------------\u001b[0m",
      "\u001b[1;31mModuleNotFoundError\u001b[0m                       Traceback (most recent call last)",
      "\u001b[1;32m<ipython-input-46-b2b1b186ac65>\u001b[0m in \u001b[0;36m<module>\u001b[1;34m\u001b[0m\n\u001b[0;32m      1\u001b[0m \u001b[1;31m# Scatterplot Matrix\u001b[0m\u001b[1;33m\u001b[0m\u001b[1;33m\u001b[0m\u001b[0m\n\u001b[1;32m----> 2\u001b[1;33m \u001b[1;32mfrom\u001b[0m \u001b[0mpandas\u001b[0m\u001b[1;33m.\u001b[0m\u001b[0mscatter_matrix\u001b[0m \u001b[1;32mimport\u001b[0m \u001b[0mscatter_matrix\u001b[0m\u001b[1;33m\u001b[0m\u001b[0m\n\u001b[0m\u001b[0;32m      3\u001b[0m \u001b[0mnames\u001b[0m \u001b[1;33m=\u001b[0m \u001b[1;33m[\u001b[0m\u001b[1;34m'preg'\u001b[0m\u001b[1;33m,\u001b[0m \u001b[1;34m'plas'\u001b[0m\u001b[1;33m,\u001b[0m \u001b[1;34m'pres'\u001b[0m\u001b[1;33m,\u001b[0m \u001b[1;34m'skin'\u001b[0m\u001b[1;33m,\u001b[0m \u001b[1;34m'test'\u001b[0m\u001b[1;33m,\u001b[0m \u001b[1;34m'mass'\u001b[0m\u001b[1;33m,\u001b[0m \u001b[1;34m'pedi'\u001b[0m\u001b[1;33m,\u001b[0m \u001b[1;34m'age'\u001b[0m\u001b[1;33m,\u001b[0m \u001b[1;34m'class'\u001b[0m\u001b[1;33m]\u001b[0m\u001b[1;33m\u001b[0m\u001b[0m\n\u001b[0;32m      4\u001b[0m \u001b[0mdata\u001b[0m \u001b[1;33m=\u001b[0m \u001b[0mread_csv\u001b[0m\u001b[1;33m(\u001b[0m\u001b[0mfilename\u001b[0m\u001b[1;33m,\u001b[0m \u001b[0mnames\u001b[0m\u001b[1;33m=\u001b[0m\u001b[0mnames\u001b[0m\u001b[1;33m)\u001b[0m\u001b[1;33m\u001b[0m\u001b[0m\n\u001b[0;32m      5\u001b[0m \u001b[0mscatter_matrix\u001b[0m\u001b[1;33m(\u001b[0m\u001b[0mdata\u001b[0m\u001b[1;33m)\u001b[0m\u001b[1;33m\u001b[0m\u001b[0m\n",
      "\u001b[1;31mModuleNotFoundError\u001b[0m: No module named 'pandas.scatter_matrix'"
     ]
    }
   ],
   "source": [
    "# Scatterplot Matrix\n",
    "from pandas.scatter_matrix import scatter_matrix\n",
    "names = ['preg', 'plas', 'pres', 'skin', 'test', 'mass', 'pedi', 'age', 'class']\n",
    "data = read_csv(filename, names=names)\n",
    "scatter_matrix(data)\n",
    "pyplot.show()"
   ]
  },
  {
   "cell_type": "code",
   "execution_count": null,
   "metadata": {},
   "outputs": [],
   "source": []
  }
 ],
 "metadata": {
  "kernelspec": {
   "display_name": "Python [default]",
   "language": "python",
   "name": "python3"
  },
  "language_info": {
   "codemirror_mode": {
    "name": "ipython",
    "version": 3
   },
   "file_extension": ".py",
   "mimetype": "text/x-python",
   "name": "python",
   "nbconvert_exporter": "python",
   "pygments_lexer": "ipython3",
   "version": "3.6.6"
  }
 },
 "nbformat": 4,
 "nbformat_minor": 2
}
